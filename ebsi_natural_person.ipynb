{
 "cells": [
  {
   "cell_type": "markdown",
   "metadata": {},
   "source": [
    "# EBSI Wallet Conformance (Natural Person)"
   ]
  },
  {
   "cell_type": "markdown",
   "metadata": {},
   "source": [
    "> EBSI v2 DID for Natural Person(s) is introduced. "
   ]
  },
  {
   "cell_type": "markdown",
   "metadata": {},
   "source": [
    "## Setup conformance headers"
   ]
  },
  {
   "cell_type": "code",
   "execution_count": 19,
   "metadata": {},
   "outputs": [],
   "source": [
    "import uuid\n",
    "import asyncio\n",
    "from rich.console import Console\n",
    "\n",
    "console = Console()\n",
    "\n",
    "loop = asyncio.get_event_loop()\n",
    "\n",
    "headers = {\n",
    "    \"Conformance\": str(uuid.uuid4()),\n",
    "}"
   ]
  },
  {
   "cell_type": "markdown",
   "metadata": {},
   "source": [
    "## Setup wallet"
   ]
  },
  {
   "cell_type": "code",
   "execution_count": 20,
   "metadata": {},
   "outputs": [],
   "source": [
    "from src.main import wallet\n",
    "\n",
    "# Setup wallet\n",
    "client = await wallet(\"init_v2\")\n"
   ]
  },
  {
   "cell_type": "markdown",
   "metadata": {},
   "source": [
    "## ISSUE_011"
   ]
  },
  {
   "cell_type": "code",
   "execution_count": 21,
   "metadata": {},
   "outputs": [
    {
     "data": {
      "text/html": [
       "<pre style=\"white-space:pre;overflow-x:auto;line-height:normal;font-family:Menlo,'DejaVu Sans Mono',consolas,'Courier New',monospace\"><span style=\"color: #7fbfbf; text-decoration-color: #7fbfbf\">[01:44:07] </span>issuerInitiate openid:<span style=\"color: #800080; text-decoration-color: #800080\">//</span><span style=\"color: #ff00ff; text-decoration-color: #ff00ff\">initiate_issuance</span>?<span style=\"color: #808000; text-decoration-color: #808000\">issuer</span>=<span style=\"color: #800080; text-decoration-color: #800080\">https</span>%3A%2F%2Fapi <a href=\"file:///var/folders/z6/z5bp3zsx3g37nkmnvk3mp8880000gn/T/ipykernel_80272/1433138924.py\" target=\"_blank\"><span style=\"color: #7f7f7f; text-decoration-color: #7f7f7f\">1433138924.py</span></a><span style=\"color: #7f7f7f; text-decoration-color: #7f7f7f\">:</span><a href=\"file:///var/folders/z6/z5bp3zsx3g37nkmnvk3mp8880000gn/T/ipykernel_80272/1433138924.py#6\" target=\"_blank\"><span style=\"color: #7f7f7f; text-decoration-color: #7f7f7f\">6</span></a>\n",
       "<span style=\"color: #7fbfbf; text-decoration-color: #7fbfbf\">           </span>.conformance.intebsi.xyz%2Fconformance%2Fv2&amp;<span style=\"color: #808000; text-decoration-color: #808000\">credential_type</span>=<span style=\"color: #800080; text-decoration-color: #800080\">https</span>% <span style=\"color: #7f7f7f; text-decoration-color: #7f7f7f\">               </span>\n",
       "<span style=\"color: #7fbfbf; text-decoration-color: #7fbfbf\">           </span>3A%2F%2Fapi.preprod.ebsi.eu%2Ftrusted-schemas-registry%2Fv2%2Fsche <span style=\"color: #7f7f7f; text-decoration-color: #7f7f7f\">               </span>\n",
       "<span style=\"color: #7fbfbf; text-decoration-color: #7fbfbf\">           </span>mas%2FzCfNxx5dMBdf4yVcsWzj1anWRuXcxrXj1aogyfN1xSu8t&amp;<span style=\"color: #808000; text-decoration-color: #808000\">conformance</span>=<span style=\"color: #ffff00; text-decoration-color: #ffff00\">5f</span> <span style=\"color: #7f7f7f; text-decoration-color: #7f7f7f\">               </span>\n",
       "<span style=\"color: #7fbfbf; text-decoration-color: #7fbfbf\">           </span><span style=\"color: #ffff00; text-decoration-color: #ffff00\">212e03</span><span style=\"color: #ffff00; text-decoration-color: #ffff00\">-e654-43ec-83f3-61b1a786228a</span>                                 <span style=\"color: #7f7f7f; text-decoration-color: #7f7f7f\">               </span>\n",
       "</pre>\n"
      ],
      "text/plain": [
       "\u001b[2;36m[01:44:07]\u001b[0m\u001b[2;36m \u001b[0missuerInitiate openid:\u001b[35m/\u001b[0m\u001b[35m/\u001b[0m\u001b[95minitiate_issuance\u001b[0m?\u001b[33missuer\u001b[0m=\u001b[35mhttps\u001b[0m%3A%2F%2Fapi \u001b]8;id=91628;file:///var/folders/z6/z5bp3zsx3g37nkmnvk3mp8880000gn/T/ipykernel_80272/1433138924.py\u001b\\\u001b[2m1433138924.py\u001b[0m\u001b]8;;\u001b\\\u001b[2m:\u001b[0m\u001b]8;id=807660;file:///var/folders/z6/z5bp3zsx3g37nkmnvk3mp8880000gn/T/ipykernel_80272/1433138924.py#6\u001b\\\u001b[2m6\u001b[0m\u001b]8;;\u001b\\\n",
       "\u001b[2;36m           \u001b[0m.conformance.intebsi.xyz%2Fconformance%2Fv2&\u001b[33mcredential_type\u001b[0m=\u001b[35mhttps\u001b[0m% \u001b[2m               \u001b[0m\n",
       "\u001b[2;36m           \u001b[0m3A%2F%2Fapi.preprod.ebsi.eu%2Ftrusted-schemas-registry%2Fv2%2Fsche \u001b[2m               \u001b[0m\n",
       "\u001b[2;36m           \u001b[0mmas%2FzCfNxx5dMBdf4yVcsWzj1anWRuXcxrXj1aogyfN1xSu8t&\u001b[33mconformance\u001b[0m=\u001b[93m5f\u001b[0m \u001b[2m               \u001b[0m\n",
       "\u001b[2;36m           \u001b[0m\u001b[93m212e03\u001b[0m\u001b[93m-e654-43ec-83f3-61b1a786228a\u001b[0m                                 \u001b[2m               \u001b[0m\n"
      ]
     },
     "metadata": {},
     "output_type": "display_data"
    },
    {
     "data": {
      "text/html": [
       "<pre style=\"white-space:pre;overflow-x:auto;line-height:normal;font-family:Menlo,'DejaVu Sans Mono',consolas,'Courier New',monospace\"><span style=\"color: #7fbfbf; text-decoration-color: #7fbfbf\">           </span>credential_type <span style=\"color: #0000ff; text-decoration-color: #0000ff; text-decoration: underline\">https://api.preprod.ebsi.eu/trusted-schemas-regis</span> <a href=\"file:///var/folders/z6/z5bp3zsx3g37nkmnvk3mp8880000gn/T/ipykernel_80272/1433138924.py\" target=\"_blank\"><span style=\"color: #7f7f7f; text-decoration-color: #7f7f7f\">1433138924.py</span></a><span style=\"color: #7f7f7f; text-decoration-color: #7f7f7f\">:</span><a href=\"file:///var/folders/z6/z5bp3zsx3g37nkmnvk3mp8880000gn/T/ipykernel_80272/1433138924.py#14\" target=\"_blank\"><span style=\"color: #7f7f7f; text-decoration-color: #7f7f7f\">14</span></a>\n",
       "<span style=\"color: #7fbfbf; text-decoration-color: #7fbfbf\">           </span><span style=\"color: #0000ff; text-decoration-color: #0000ff; text-decoration: underline\">try/v2/schemas/zCfNxx5dMBdf4yVcsWzj1anWRuXcxrXj1aogyfN1xSu8t</span>      <span style=\"color: #7f7f7f; text-decoration-color: #7f7f7f\">                </span>\n",
       "</pre>\n"
      ],
      "text/plain": [
       "\u001b[2;36m          \u001b[0m\u001b[2;36m \u001b[0mcredential_type \u001b[4;94mhttps://api.preprod.ebsi.eu/trusted-schemas-regis\u001b[0m \u001b]8;id=866903;file:///var/folders/z6/z5bp3zsx3g37nkmnvk3mp8880000gn/T/ipykernel_80272/1433138924.py\u001b\\\u001b[2m1433138924.py\u001b[0m\u001b]8;;\u001b\\\u001b[2m:\u001b[0m\u001b]8;id=908264;file:///var/folders/z6/z5bp3zsx3g37nkmnvk3mp8880000gn/T/ipykernel_80272/1433138924.py#14\u001b\\\u001b[2m14\u001b[0m\u001b]8;;\u001b\\\n",
       "\u001b[2;36m           \u001b[0m\u001b[4;94mtry/v2/schemas/zCfNxx5dMBdf4yVcsWzj1anWRuXcxrXj1aogyfN1xSu8t\u001b[0m      \u001b[2m                \u001b[0m\n"
      ]
     },
     "metadata": {},
     "output_type": "display_data"
    },
    {
     "data": {
      "text/html": [
       "<pre style=\"white-space:pre;overflow-x:auto;line-height:normal;font-family:Menlo,'DejaVu Sans Mono',consolas,'Courier New',monospace\"><span style=\"color: #7fbfbf; text-decoration-color: #7fbfbf\">[01:44:08] </span>issuerAuthorize                                                   <a href=\"file:///var/folders/z6/z5bp3zsx3g37nkmnvk3mp8880000gn/T/ipykernel_80272/1433138924.py\" target=\"_blank\"><span style=\"color: #7f7f7f; text-decoration-color: #7f7f7f\">1433138924.py</span></a><span style=\"color: #7f7f7f; text-decoration-color: #7f7f7f\">:</span><a href=\"file:///var/folders/z6/z5bp3zsx3g37nkmnvk3mp8880000gn/T/ipykernel_80272/1433138924.py#22\" target=\"_blank\"><span style=\"color: #7f7f7f; text-decoration-color: #7f7f7f\">22</span></a>\n",
       "<span style=\"color: #7fbfbf; text-decoration-color: #7fbfbf\">           </span><span style=\"font-weight: bold\">{</span><span style=\"color: #008000; text-decoration-color: #008000\">'state'</span>: <span style=\"color: #008000; text-decoration-color: #008000\">'7c23cbe49775'</span>, <span style=\"color: #008000; text-decoration-color: #008000\">'code'</span>: <span style=\"color: #008000; text-decoration-color: #008000\">'d15b916e1e73649a061b'</span><span style=\"font-weight: bold\">}</span>         <span style=\"color: #7f7f7f; text-decoration-color: #7f7f7f\">                </span>\n",
       "</pre>\n"
      ],
      "text/plain": [
       "\u001b[2;36m[01:44:08]\u001b[0m\u001b[2;36m \u001b[0missuerAuthorize                                                   \u001b]8;id=784961;file:///var/folders/z6/z5bp3zsx3g37nkmnvk3mp8880000gn/T/ipykernel_80272/1433138924.py\u001b\\\u001b[2m1433138924.py\u001b[0m\u001b]8;;\u001b\\\u001b[2m:\u001b[0m\u001b]8;id=92294;file:///var/folders/z6/z5bp3zsx3g37nkmnvk3mp8880000gn/T/ipykernel_80272/1433138924.py#22\u001b\\\u001b[2m22\u001b[0m\u001b]8;;\u001b\\\n",
       "\u001b[2;36m           \u001b[0m\u001b[1m{\u001b[0m\u001b[32m'state'\u001b[0m: \u001b[32m'7c23cbe49775'\u001b[0m, \u001b[32m'code'\u001b[0m: \u001b[32m'd15b916e1e73649a061b'\u001b[0m\u001b[1m}\u001b[0m         \u001b[2m                \u001b[0m\n"
      ]
     },
     "metadata": {},
     "output_type": "display_data"
    }
   ],
   "source": [
    "from src.main import conformance\n",
    "from src.util import parse_query_string_parameters_from_url\n",
    "\n",
    "result = await conformance(\"issuerInitiate\", headers=headers)\n",
    "\n",
    "console.log(\"issuerInitiate\", result)\n",
    "\n",
    "session_token = result.replace(\"openid://\", \"\")\n",
    "credential_type = parse_query_string_parameters_from_url(\n",
    "    session_token).get(\"credential_type\")[0]\n",
    "issuer_url = parse_query_string_parameters_from_url(\n",
    "    session_token).get(\"issuer\")[0]\n",
    "\n",
    "console.log(\"credential_type\", credential_type)\n",
    "\n",
    "options = {\n",
    "    \"client\": client,\n",
    "    \"credential_type\" : credential_type\n",
    "}\n",
    "\n",
    "result = await conformance(\"issuerAuthorize\", options=options)\n",
    "console.log(\"issuerAuthorize\", result)\n"
   ]
  },
  {
   "cell_type": "markdown",
   "metadata": {},
   "source": [
    "## ISSUE_021"
   ]
  },
  {
   "cell_type": "code",
   "execution_count": 22,
   "metadata": {},
   "outputs": [
    {
     "data": {
      "text/html": [
       "<pre style=\"white-space:pre;overflow-x:auto;line-height:normal;font-family:Menlo,'DejaVu Sans Mono',consolas,'Courier New',monospace\"><span style=\"color: #7fbfbf; text-decoration-color: #7fbfbf\">[01:44:09] </span>issuerToken                                                        <a href=\"file:///var/folders/z6/z5bp3zsx3g37nkmnvk3mp8880000gn/T/ipykernel_80272/1256846934.py\" target=\"_blank\"><span style=\"color: #7f7f7f; text-decoration-color: #7f7f7f\">1256846934.py</span></a><span style=\"color: #7f7f7f; text-decoration-color: #7f7f7f\">:</span><a href=\"file:///var/folders/z6/z5bp3zsx3g37nkmnvk3mp8880000gn/T/ipykernel_80272/1256846934.py#7\" target=\"_blank\"><span style=\"color: #7f7f7f; text-decoration-color: #7f7f7f\">7</span></a>\n",
       "<span style=\"color: #7fbfbf; text-decoration-color: #7fbfbf\">           </span><span style=\"font-weight: bold\">{</span>                                                                  <span style=\"color: #7f7f7f; text-decoration-color: #7f7f7f\">               </span>\n",
       "<span style=\"color: #7fbfbf; text-decoration-color: #7fbfbf\">           </span>    <span style=\"color: #008000; text-decoration-color: #008000\">'token_type'</span>: <span style=\"color: #008000; text-decoration-color: #008000\">'Bearer'</span>,                                        <span style=\"color: #7f7f7f; text-decoration-color: #7f7f7f\">               </span>\n",
       "<span style=\"color: #7fbfbf; text-decoration-color: #7fbfbf\">           </span>    <span style=\"color: #008000; text-decoration-color: #008000\">'access_token'</span>: <span style=\"color: #008000; text-decoration-color: #008000\">'3c0e945758ddd68dc009'</span>,                        <span style=\"color: #7f7f7f; text-decoration-color: #7f7f7f\">               </span>\n",
       "<span style=\"color: #7fbfbf; text-decoration-color: #7fbfbf\">           </span>    <span style=\"color: #008000; text-decoration-color: #008000\">'expires_in'</span>: <span style=\"color: #008080; text-decoration-color: #008080; font-weight: bold\">3600</span>,                                            <span style=\"color: #7f7f7f; text-decoration-color: #7f7f7f\">               </span>\n",
       "<span style=\"color: #7fbfbf; text-decoration-color: #7fbfbf\">           </span>    <span style=\"color: #008000; text-decoration-color: #008000\">'c_nonce'</span>: <span style=\"color: #008000; text-decoration-color: #008000\">'4a56a26087de157150d2'</span>,                             <span style=\"color: #7f7f7f; text-decoration-color: #7f7f7f\">               </span>\n",
       "<span style=\"color: #7fbfbf; text-decoration-color: #7fbfbf\">           </span>    <span style=\"color: #008000; text-decoration-color: #008000\">'id_token'</span>: <span style=\"color: #008000; text-decoration-color: #008000\">'eyJ0eXAiOiJKV1QiLCJhbGciOiJFUzI1NksifQ.eyJpYXQiOj</span> <span style=\"color: #7f7f7f; text-decoration-color: #7f7f7f\">               </span>\n",
       "<span style=\"color: #7fbfbf; text-decoration-color: #7fbfbf\">           </span><span style=\"color: #008000; text-decoration-color: #008000\">E2NTgxNzUyNDksInN1YiI6Imh0dHBzOi8vbG9jYWxob3N0OjMwMDAiLCJhdWQiOiJo</span> <span style=\"color: #7f7f7f; text-decoration-color: #7f7f7f\">               </span>\n",
       "<span style=\"color: #7fbfbf; text-decoration-color: #7fbfbf\">           </span><span style=\"color: #008000; text-decoration-color: #008000\">dHRwczovL2xvY2FsaG9zdDozMDAwIiwiaXNzIjoiZGlkOmVic2k6emljZnRWUk5ra3</span> <span style=\"color: #7f7f7f; text-decoration-color: #7f7f7f\">               </span>\n",
       "<span style=\"color: #7fbfbf; text-decoration-color: #7fbfbf\">           </span><span style=\"color: #008000; text-decoration-color: #008000\">dmUm91clpkM25FNWYifQ.BuSN2kl_chHPkf2KKNHWKP8N8U68KVGBNsVcHVmZZ7UyO</span> <span style=\"color: #7f7f7f; text-decoration-color: #7f7f7f\">               </span>\n",
       "<span style=\"color: #7fbfbf; text-decoration-color: #7fbfbf\">           </span><span style=\"color: #008000; text-decoration-color: #008000\">n4q--k3rVFkzdt8DqcotfWCswO2Kfp-CbCtZ_PNAQ'</span>                         <span style=\"color: #7f7f7f; text-decoration-color: #7f7f7f\">               </span>\n",
       "<span style=\"color: #7fbfbf; text-decoration-color: #7fbfbf\">           </span><span style=\"font-weight: bold\">}</span>                                                                  <span style=\"color: #7f7f7f; text-decoration-color: #7f7f7f\">               </span>\n",
       "</pre>\n"
      ],
      "text/plain": [
       "\u001b[2;36m[01:44:09]\u001b[0m\u001b[2;36m \u001b[0missuerToken                                                        \u001b]8;id=410646;file:///var/folders/z6/z5bp3zsx3g37nkmnvk3mp8880000gn/T/ipykernel_80272/1256846934.py\u001b\\\u001b[2m1256846934.py\u001b[0m\u001b]8;;\u001b\\\u001b[2m:\u001b[0m\u001b]8;id=966197;file:///var/folders/z6/z5bp3zsx3g37nkmnvk3mp8880000gn/T/ipykernel_80272/1256846934.py#7\u001b\\\u001b[2m7\u001b[0m\u001b]8;;\u001b\\\n",
       "\u001b[2;36m           \u001b[0m\u001b[1m{\u001b[0m                                                                  \u001b[2m               \u001b[0m\n",
       "\u001b[2;36m           \u001b[0m    \u001b[32m'token_type'\u001b[0m: \u001b[32m'Bearer'\u001b[0m,                                        \u001b[2m               \u001b[0m\n",
       "\u001b[2;36m           \u001b[0m    \u001b[32m'access_token'\u001b[0m: \u001b[32m'3c0e945758ddd68dc009'\u001b[0m,                        \u001b[2m               \u001b[0m\n",
       "\u001b[2;36m           \u001b[0m    \u001b[32m'expires_in'\u001b[0m: \u001b[1;36m3600\u001b[0m,                                            \u001b[2m               \u001b[0m\n",
       "\u001b[2;36m           \u001b[0m    \u001b[32m'c_nonce'\u001b[0m: \u001b[32m'4a56a26087de157150d2'\u001b[0m,                             \u001b[2m               \u001b[0m\n",
       "\u001b[2;36m           \u001b[0m    \u001b[32m'id_token'\u001b[0m: \u001b[32m'eyJ0eXAiOiJKV1QiLCJhbGciOiJFUzI1NksifQ.eyJpYXQiOj\u001b[0m \u001b[2m               \u001b[0m\n",
       "\u001b[2;36m           \u001b[0m\u001b[32mE2NTgxNzUyNDksInN1YiI6Imh0dHBzOi8vbG9jYWxob3N0OjMwMDAiLCJhdWQiOiJo\u001b[0m \u001b[2m               \u001b[0m\n",
       "\u001b[2;36m           \u001b[0m\u001b[32mdHRwczovL2xvY2FsaG9zdDozMDAwIiwiaXNzIjoiZGlkOmVic2k6emljZnRWUk5ra3\u001b[0m \u001b[2m               \u001b[0m\n",
       "\u001b[2;36m           \u001b[0m\u001b[32mdmUm91clpkM25FNWYifQ.BuSN2kl_chHPkf2KKNHWKP8N8U68KVGBNsVcHVmZZ7UyO\u001b[0m \u001b[2m               \u001b[0m\n",
       "\u001b[2;36m           \u001b[0m\u001b[32mn4q--k3rVFkzdt8DqcotfWCswO2Kfp-CbCtZ_PNAQ'\u001b[0m                         \u001b[2m               \u001b[0m\n",
       "\u001b[2;36m           \u001b[0m\u001b[1m}\u001b[0m                                                                  \u001b[2m               \u001b[0m\n"
      ]
     },
     "metadata": {},
     "output_type": "display_data"
    }
   ],
   "source": [
    "options = {\n",
    "    \"did_version\": client.did_version,\n",
    "    \"code\": result[\"code\"]\n",
    "}\n",
    "\n",
    "result = await conformance(\"issuerToken\", options=options, headers=headers)\n",
    "console.log(\"issuerToken\", result)\n"
   ]
  },
  {
   "cell_type": "markdown",
   "metadata": {},
   "source": [
    "## ISSUE_031"
   ]
  },
  {
   "cell_type": "code",
   "execution_count": 23,
   "metadata": {},
   "outputs": [
    {
     "data": {
      "text/html": [
       "<pre style=\"white-space:pre;overflow-x:auto;line-height:normal;font-family:Menlo,'DejaVu Sans Mono',consolas,'Courier New',monospace\"><span style=\"color: #7fbfbf; text-decoration-color: #7fbfbf\">[01:44:10] </span>issuerCredential                                                  <a href=\"file:///var/folders/z6/z5bp3zsx3g37nkmnvk3mp8880000gn/T/ipykernel_80272/2102501115.py\" target=\"_blank\"><span style=\"color: #7f7f7f; text-decoration-color: #7f7f7f\">2102501115.py</span></a><span style=\"color: #7f7f7f; text-decoration-color: #7f7f7f\">:</span><a href=\"file:///var/folders/z6/z5bp3zsx3g37nkmnvk3mp8880000gn/T/ipykernel_80272/2102501115.py#17\" target=\"_blank\"><span style=\"color: #7f7f7f; text-decoration-color: #7f7f7f\">17</span></a>\n",
       "<span style=\"color: #7fbfbf; text-decoration-color: #7fbfbf\">           </span><span style=\"font-weight: bold\">{</span>                                                                 <span style=\"color: #7f7f7f; text-decoration-color: #7f7f7f\">                </span>\n",
       "<span style=\"color: #7fbfbf; text-decoration-color: #7fbfbf\">           </span>    <span style=\"color: #008000; text-decoration-color: #008000\">'format'</span>: <span style=\"color: #008000; text-decoration-color: #008000\">'jwt_vc'</span>,                                           <span style=\"color: #7f7f7f; text-decoration-color: #7f7f7f\">                </span>\n",
       "<span style=\"color: #7fbfbf; text-decoration-color: #7fbfbf\">           </span>    <span style=\"color: #008000; text-decoration-color: #008000\">'credential'</span>: <span style=\"color: #008000; text-decoration-color: #008000\">'eyJhbGciOiJFUzI1NksiLCJ0eXAiOiJKV1QiLCJraWQiOi</span> <span style=\"color: #7f7f7f; text-decoration-color: #7f7f7f\">                </span>\n",
       "<span style=\"color: #7fbfbf; text-decoration-color: #7fbfbf\">           </span><span style=\"color: #008000; text-decoration-color: #008000\">JkaWQ6ZWJzaTp6aWNmdFZSTmtrd2ZSb3VyWmQzbkU1ZiNrZXlzLTIifQ.eyJqdGki</span> <span style=\"color: #7f7f7f; text-decoration-color: #7f7f7f\">                </span>\n",
       "<span style=\"color: #7fbfbf; text-decoration-color: #7fbfbf\">           </span><span style=\"color: #008000; text-decoration-color: #008000\">OiJ1cm46ZGlkOjQ4MmU1YWExLTcyZjgtNGI0Zi1iY2Y2LTQ2ZjdmZTM5ZjgxMyIsI</span> <span style=\"color: #7f7f7f; text-decoration-color: #7f7f7f\">                </span>\n",
       "<span style=\"color: #7fbfbf; text-decoration-color: #7fbfbf\">           </span><span style=\"color: #008000; text-decoration-color: #008000\">nN1YiI6ImRpZDplYnNpOnpzd01WeXVydDFhcnpqS0pEejk2WHVHcG5Xb1V2WnphcF</span> <span style=\"color: #7f7f7f; text-decoration-color: #7f7f7f\">                </span>\n",
       "<span style=\"color: #7fbfbf; text-decoration-color: #7fbfbf\">           </span><span style=\"color: #008000; text-decoration-color: #008000\">d5VndYVmc5ODhudSIsImlzcyI6ImRpZDplYnNpOnppY2Z0VlJOa2t3ZlJvdXJaZDN</span> <span style=\"color: #7f7f7f; text-decoration-color: #7f7f7f\">                </span>\n",
       "<span style=\"color: #7fbfbf; text-decoration-color: #7fbfbf\">           </span><span style=\"color: #008000; text-decoration-color: #008000\">uRTVmIiwibmJmIjoxNjU4MTc1MjUwLCJpYXQiOjE2NTgxNzUyNTAsInZjIjp7IkBj</span> <span style=\"color: #7f7f7f; text-decoration-color: #7f7f7f\">                </span>\n",
       "<span style=\"color: #7fbfbf; text-decoration-color: #7fbfbf\">           </span><span style=\"color: #008000; text-decoration-color: #008000\">b250ZXh0IjpbImh0dHBzOi8vd3d3LnczLm9yZy8yMDE4L2NyZWRlbnRpYWxzL3YxI</span> <span style=\"color: #7f7f7f; text-decoration-color: #7f7f7f\">                </span>\n",
       "<span style=\"color: #7fbfbf; text-decoration-color: #7fbfbf\">           </span><span style=\"color: #008000; text-decoration-color: #008000\">l0sImlkIjoidXJuOmRpZDo0ODJlNWFhMS03MmY4LTRiNGYtYmNmNi00NmY3ZmUzOW</span> <span style=\"color: #7f7f7f; text-decoration-color: #7f7f7f\">                </span>\n",
       "<span style=\"color: #7fbfbf; text-decoration-color: #7fbfbf\">           </span><span style=\"color: #008000; text-decoration-color: #008000\">Y4MTMiLCJ0eXBlIjpbIlZlcmlmaWFibGVDcmVkZW50aWFsIiwiVmVyaWZpYWJsZUF</span> <span style=\"color: #7f7f7f; text-decoration-color: #7f7f7f\">                </span>\n",
       "<span style=\"color: #7fbfbf; text-decoration-color: #7fbfbf\">           </span><span style=\"color: #008000; text-decoration-color: #008000\">0dGVzdGF0aW9uIiwiVmVyaWZpYWJsZUlkIl0sImlzc3VlciI6ImRpZDplYnNpOnpp</span> <span style=\"color: #7f7f7f; text-decoration-color: #7f7f7f\">                </span>\n",
       "<span style=\"color: #7fbfbf; text-decoration-color: #7fbfbf\">           </span><span style=\"color: #008000; text-decoration-color: #008000\">Y2Z0VlJOa2t3ZlJvdXJaZDNuRTVmIiwiaXNzdWFuY2VEYXRlIjoiMjAyMi0wNy0xO</span> <span style=\"color: #7f7f7f; text-decoration-color: #7f7f7f\">                </span>\n",
       "<span style=\"color: #7fbfbf; text-decoration-color: #7fbfbf\">           </span><span style=\"color: #008000; text-decoration-color: #008000\">FQyMDoxNDoxMFoiLCJ2YWxpZEZyb20iOiIyMDIyLTA3LTE4VDIwOjE0OjEwWiIsIm</span> <span style=\"color: #7f7f7f; text-decoration-color: #7f7f7f\">                </span>\n",
       "<span style=\"color: #7fbfbf; text-decoration-color: #7fbfbf\">           </span><span style=\"color: #008000; text-decoration-color: #008000\">lzc3VlZCI6IjIwMjItMDctMThUMjA6MTQ6MTBaIiwiY3JlZGVudGlhbFN1YmplY3Q</span> <span style=\"color: #7f7f7f; text-decoration-color: #7f7f7f\">                </span>\n",
       "<span style=\"color: #7fbfbf; text-decoration-color: #7fbfbf\">           </span><span style=\"color: #008000; text-decoration-color: #008000\">iOnsiaWQiOiJkaWQ6ZWJzaTp6c3dNVnl1cnQxYXJ6aktKRHo5Nlh1R3BuV29Vdlp6</span> <span style=\"color: #7f7f7f; text-decoration-color: #7f7f7f\">                </span>\n",
       "<span style=\"color: #7fbfbf; text-decoration-color: #7fbfbf\">           </span><span style=\"color: #008000; text-decoration-color: #008000\">YXBXeVZ3WFZnOTg4bnUiLCJwZXJzb25hbElkZW50aWZpZXIiOiJJVC9ERS8xMjM0I</span> <span style=\"color: #7f7f7f; text-decoration-color: #7f7f7f\">                </span>\n",
       "<span style=\"color: #7fbfbf; text-decoration-color: #7fbfbf\">           </span><span style=\"color: #008000; text-decoration-color: #008000\">iwiZmFtaWx5TmFtZSI6IkNhc3RhZmlvcmkiLCJmaXJzdE5hbWUiOiJCaWFuY2EiLC</span> <span style=\"color: #7f7f7f; text-decoration-color: #7f7f7f\">                </span>\n",
       "<span style=\"color: #7fbfbf; text-decoration-color: #7fbfbf\">           </span><span style=\"color: #008000; text-decoration-color: #008000\">JkYXRlT2ZCaXJ0aCI6IjE5MzAtMTAtMDEifSwiY3JlZGVudGlhbFNjaGVtYSI6eyJ</span> <span style=\"color: #7f7f7f; text-decoration-color: #7f7f7f\">                </span>\n",
       "<span style=\"color: #7fbfbf; text-decoration-color: #7fbfbf\">           </span><span style=\"color: #008000; text-decoration-color: #008000\">pZCI6Imh0dHBzOi8vYXBpLnByZXByb2QuZWJzaS5ldS90cnVzdGVkLXNjaGVtYXMt</span> <span style=\"color: #7f7f7f; text-decoration-color: #7f7f7f\">                </span>\n",
       "<span style=\"color: #7fbfbf; text-decoration-color: #7fbfbf\">           </span><span style=\"color: #008000; text-decoration-color: #008000\">cmVnaXN0cnkvdjIvc2NoZW1hcy96Q2ZOeHg1ZE1CZGY0eVZjc1d6ajFhbldSdVhje</span> <span style=\"color: #7f7f7f; text-decoration-color: #7f7f7f\">                </span>\n",
       "<span style=\"color: #7fbfbf; text-decoration-color: #7fbfbf\">           </span><span style=\"color: #008000; text-decoration-color: #008000\">HJYajFhb2d5Zk4xeFN1OHQiLCJ0eXBlIjoiRnVsbEpzb25TY2hlbWFWYWxpZGF0b3</span> <span style=\"color: #7f7f7f; text-decoration-color: #7f7f7f\">                </span>\n",
       "<span style=\"color: #7fbfbf; text-decoration-color: #7fbfbf\">           </span><span style=\"color: #008000; text-decoration-color: #008000\">IyMDIxIn19fQ.se6jaxViBgCpIVDGOwhMnQPAsj2WgUcJ3NjgIZbqJ7h_iiudrZFN</span> <span style=\"color: #7f7f7f; text-decoration-color: #7f7f7f\">                </span>\n",
       "<span style=\"color: #7fbfbf; text-decoration-color: #7fbfbf\">           </span><span style=\"color: #008000; text-decoration-color: #008000\">4348Yq50q9BXoL19pPgaBEI8FSjAif5T0g'</span>,                              <span style=\"color: #7f7f7f; text-decoration-color: #7f7f7f\">                </span>\n",
       "<span style=\"color: #7fbfbf; text-decoration-color: #7fbfbf\">           </span>    <span style=\"color: #008000; text-decoration-color: #008000\">'c_nonce'</span>: <span style=\"color: #008000; text-decoration-color: #008000\">'c627b1f2527edf9cc405'</span>,                            <span style=\"color: #7f7f7f; text-decoration-color: #7f7f7f\">                </span>\n",
       "<span style=\"color: #7fbfbf; text-decoration-color: #7fbfbf\">           </span>    <span style=\"color: #008000; text-decoration-color: #008000\">'c_nonce_expires_in'</span>: <span style=\"color: #008080; text-decoration-color: #008080; font-weight: bold\">900</span>                                     <span style=\"color: #7f7f7f; text-decoration-color: #7f7f7f\">                </span>\n",
       "<span style=\"color: #7fbfbf; text-decoration-color: #7fbfbf\">           </span><span style=\"font-weight: bold\">}</span>                                                                 <span style=\"color: #7f7f7f; text-decoration-color: #7f7f7f\">                </span>\n",
       "</pre>\n"
      ],
      "text/plain": [
       "\u001b[2;36m[01:44:10]\u001b[0m\u001b[2;36m \u001b[0missuerCredential                                                  \u001b]8;id=210907;file:///var/folders/z6/z5bp3zsx3g37nkmnvk3mp8880000gn/T/ipykernel_80272/2102501115.py\u001b\\\u001b[2m2102501115.py\u001b[0m\u001b]8;;\u001b\\\u001b[2m:\u001b[0m\u001b]8;id=740902;file:///var/folders/z6/z5bp3zsx3g37nkmnvk3mp8880000gn/T/ipykernel_80272/2102501115.py#17\u001b\\\u001b[2m17\u001b[0m\u001b]8;;\u001b\\\n",
       "\u001b[2;36m           \u001b[0m\u001b[1m{\u001b[0m                                                                 \u001b[2m                \u001b[0m\n",
       "\u001b[2;36m           \u001b[0m    \u001b[32m'format'\u001b[0m: \u001b[32m'jwt_vc'\u001b[0m,                                           \u001b[2m                \u001b[0m\n",
       "\u001b[2;36m           \u001b[0m    \u001b[32m'credential'\u001b[0m: \u001b[32m'eyJhbGciOiJFUzI1NksiLCJ0eXAiOiJKV1QiLCJraWQiOi\u001b[0m \u001b[2m                \u001b[0m\n",
       "\u001b[2;36m           \u001b[0m\u001b[32mJkaWQ6ZWJzaTp6aWNmdFZSTmtrd2ZSb3VyWmQzbkU1ZiNrZXlzLTIifQ.eyJqdGki\u001b[0m \u001b[2m                \u001b[0m\n",
       "\u001b[2;36m           \u001b[0m\u001b[32mOiJ1cm46ZGlkOjQ4MmU1YWExLTcyZjgtNGI0Zi1iY2Y2LTQ2ZjdmZTM5ZjgxMyIsI\u001b[0m \u001b[2m                \u001b[0m\n",
       "\u001b[2;36m           \u001b[0m\u001b[32mnN1YiI6ImRpZDplYnNpOnpzd01WeXVydDFhcnpqS0pEejk2WHVHcG5Xb1V2WnphcF\u001b[0m \u001b[2m                \u001b[0m\n",
       "\u001b[2;36m           \u001b[0m\u001b[32md5VndYVmc5ODhudSIsImlzcyI6ImRpZDplYnNpOnppY2Z0VlJOa2t3ZlJvdXJaZDN\u001b[0m \u001b[2m                \u001b[0m\n",
       "\u001b[2;36m           \u001b[0m\u001b[32muRTVmIiwibmJmIjoxNjU4MTc1MjUwLCJpYXQiOjE2NTgxNzUyNTAsInZjIjp7IkBj\u001b[0m \u001b[2m                \u001b[0m\n",
       "\u001b[2;36m           \u001b[0m\u001b[32mb250ZXh0IjpbImh0dHBzOi8vd3d3LnczLm9yZy8yMDE4L2NyZWRlbnRpYWxzL3YxI\u001b[0m \u001b[2m                \u001b[0m\n",
       "\u001b[2;36m           \u001b[0m\u001b[32ml0sImlkIjoidXJuOmRpZDo0ODJlNWFhMS03MmY4LTRiNGYtYmNmNi00NmY3ZmUzOW\u001b[0m \u001b[2m                \u001b[0m\n",
       "\u001b[2;36m           \u001b[0m\u001b[32mY4MTMiLCJ0eXBlIjpbIlZlcmlmaWFibGVDcmVkZW50aWFsIiwiVmVyaWZpYWJsZUF\u001b[0m \u001b[2m                \u001b[0m\n",
       "\u001b[2;36m           \u001b[0m\u001b[32m0dGVzdGF0aW9uIiwiVmVyaWZpYWJsZUlkIl0sImlzc3VlciI6ImRpZDplYnNpOnpp\u001b[0m \u001b[2m                \u001b[0m\n",
       "\u001b[2;36m           \u001b[0m\u001b[32mY2Z0VlJOa2t3ZlJvdXJaZDNuRTVmIiwiaXNzdWFuY2VEYXRlIjoiMjAyMi0wNy0xO\u001b[0m \u001b[2m                \u001b[0m\n",
       "\u001b[2;36m           \u001b[0m\u001b[32mFQyMDoxNDoxMFoiLCJ2YWxpZEZyb20iOiIyMDIyLTA3LTE4VDIwOjE0OjEwWiIsIm\u001b[0m \u001b[2m                \u001b[0m\n",
       "\u001b[2;36m           \u001b[0m\u001b[32mlzc3VlZCI6IjIwMjItMDctMThUMjA6MTQ6MTBaIiwiY3JlZGVudGlhbFN1YmplY3Q\u001b[0m \u001b[2m                \u001b[0m\n",
       "\u001b[2;36m           \u001b[0m\u001b[32miOnsiaWQiOiJkaWQ6ZWJzaTp6c3dNVnl1cnQxYXJ6aktKRHo5Nlh1R3BuV29Vdlp6\u001b[0m \u001b[2m                \u001b[0m\n",
       "\u001b[2;36m           \u001b[0m\u001b[32mYXBXeVZ3WFZnOTg4bnUiLCJwZXJzb25hbElkZW50aWZpZXIiOiJJVC9ERS8xMjM0I\u001b[0m \u001b[2m                \u001b[0m\n",
       "\u001b[2;36m           \u001b[0m\u001b[32miwiZmFtaWx5TmFtZSI6IkNhc3RhZmlvcmkiLCJmaXJzdE5hbWUiOiJCaWFuY2EiLC\u001b[0m \u001b[2m                \u001b[0m\n",
       "\u001b[2;36m           \u001b[0m\u001b[32mJkYXRlT2ZCaXJ0aCI6IjE5MzAtMTAtMDEifSwiY3JlZGVudGlhbFNjaGVtYSI6eyJ\u001b[0m \u001b[2m                \u001b[0m\n",
       "\u001b[2;36m           \u001b[0m\u001b[32mpZCI6Imh0dHBzOi8vYXBpLnByZXByb2QuZWJzaS5ldS90cnVzdGVkLXNjaGVtYXMt\u001b[0m \u001b[2m                \u001b[0m\n",
       "\u001b[2;36m           \u001b[0m\u001b[32mcmVnaXN0cnkvdjIvc2NoZW1hcy96Q2ZOeHg1ZE1CZGY0eVZjc1d6ajFhbldSdVhje\u001b[0m \u001b[2m                \u001b[0m\n",
       "\u001b[2;36m           \u001b[0m\u001b[32mHJYajFhb2d5Zk4xeFN1OHQiLCJ0eXBlIjoiRnVsbEpzb25TY2hlbWFWYWxpZGF0b3\u001b[0m \u001b[2m                \u001b[0m\n",
       "\u001b[2;36m           \u001b[0m\u001b[32mIyMDIxIn19fQ.se6jaxViBgCpIVDGOwhMnQPAsj2WgUcJ3NjgIZbqJ7h_iiudrZFN\u001b[0m \u001b[2m                \u001b[0m\n",
       "\u001b[2;36m           \u001b[0m\u001b[32m4348Yq50q9BXoL19pPgaBEI8FSjAif5T0g'\u001b[0m,                              \u001b[2m                \u001b[0m\n",
       "\u001b[2;36m           \u001b[0m    \u001b[32m'c_nonce'\u001b[0m: \u001b[32m'c627b1f2527edf9cc405'\u001b[0m,                            \u001b[2m                \u001b[0m\n",
       "\u001b[2;36m           \u001b[0m    \u001b[32m'c_nonce_expires_in'\u001b[0m: \u001b[1;36m900\u001b[0m                                     \u001b[2m                \u001b[0m\n",
       "\u001b[2;36m           \u001b[0m\u001b[1m}\u001b[0m                                                                 \u001b[2m                \u001b[0m\n"
      ]
     },
     "metadata": {},
     "output_type": "display_data"
    },
    {
     "data": {
      "text/html": [
       "<pre style=\"white-space:pre;overflow-x:auto;line-height:normal;font-family:Menlo,'DejaVu Sans Mono',consolas,'Courier New',monospace\"><span style=\"color: #7fbfbf; text-decoration-color: #7fbfbf\">           </span>Received credential                                               <a href=\"file:///var/folders/z6/z5bp3zsx3g37nkmnvk3mp8880000gn/T/ipykernel_80272/2102501115.py\" target=\"_blank\"><span style=\"color: #7f7f7f; text-decoration-color: #7f7f7f\">2102501115.py</span></a><span style=\"color: #7f7f7f; text-decoration-color: #7f7f7f\">:</span><a href=\"file:///var/folders/z6/z5bp3zsx3g37nkmnvk3mp8880000gn/T/ipykernel_80272/2102501115.py#21\" target=\"_blank\"><span style=\"color: #7f7f7f; text-decoration-color: #7f7f7f\">21</span></a>\n",
       "<span style=\"color: #7fbfbf; text-decoration-color: #7fbfbf\">           </span><span style=\"font-weight: bold\">{</span>                                                                 <span style=\"color: #7f7f7f; text-decoration-color: #7f7f7f\">                </span>\n",
       "<span style=\"color: #7fbfbf; text-decoration-color: #7fbfbf\">           </span>    <span style=\"color: #008000; text-decoration-color: #008000\">'header'</span>: <span style=\"font-weight: bold\">{</span>                                                   <span style=\"color: #7f7f7f; text-decoration-color: #7f7f7f\">                </span>\n",
       "<span style=\"color: #7fbfbf; text-decoration-color: #7fbfbf\">           </span>        <span style=\"color: #008000; text-decoration-color: #008000\">'alg'</span>: <span style=\"color: #008000; text-decoration-color: #008000\">'ES256K'</span>,                                          <span style=\"color: #7f7f7f; text-decoration-color: #7f7f7f\">                </span>\n",
       "<span style=\"color: #7fbfbf; text-decoration-color: #7fbfbf\">           </span>        <span style=\"color: #008000; text-decoration-color: #008000\">'typ'</span>: <span style=\"color: #008000; text-decoration-color: #008000\">'JWT'</span>,                                             <span style=\"color: #7f7f7f; text-decoration-color: #7f7f7f\">                </span>\n",
       "<span style=\"color: #7fbfbf; text-decoration-color: #7fbfbf\">           </span>        <span style=\"color: #008000; text-decoration-color: #008000\">'kid'</span>: <span style=\"color: #008000; text-decoration-color: #008000\">'did:ebsi:zicftVRNkkwfRourZd3nE5f#keys-2'</span>          <span style=\"color: #7f7f7f; text-decoration-color: #7f7f7f\">                </span>\n",
       "<span style=\"color: #7fbfbf; text-decoration-color: #7fbfbf\">           </span>    <span style=\"font-weight: bold\">}</span>,                                                            <span style=\"color: #7f7f7f; text-decoration-color: #7f7f7f\">                </span>\n",
       "<span style=\"color: #7fbfbf; text-decoration-color: #7fbfbf\">           </span>    <span style=\"color: #008000; text-decoration-color: #008000\">'payload'</span>: <span style=\"font-weight: bold\">{</span>                                                  <span style=\"color: #7f7f7f; text-decoration-color: #7f7f7f\">                </span>\n",
       "<span style=\"color: #7fbfbf; text-decoration-color: #7fbfbf\">           </span>        <span style=\"color: #008000; text-decoration-color: #008000\">'jti'</span>: <span style=\"color: #008000; text-decoration-color: #008000\">'urn:did:482e5aa1-72f8-4b4f-bcf6-46f7fe39f813'</span>,    <span style=\"color: #7f7f7f; text-decoration-color: #7f7f7f\">                </span>\n",
       "<span style=\"color: #7fbfbf; text-decoration-color: #7fbfbf\">           </span>        <span style=\"color: #008000; text-decoration-color: #008000\">'sub'</span>:                                                    <span style=\"color: #7f7f7f; text-decoration-color: #7f7f7f\">                </span>\n",
       "<span style=\"color: #7fbfbf; text-decoration-color: #7fbfbf\">           </span><span style=\"color: #008000; text-decoration-color: #008000\">'did:ebsi:zswMVyurt1arzjKJDz96XuGpnWoUvZzapWyVwXVg988nu'</span>,         <span style=\"color: #7f7f7f; text-decoration-color: #7f7f7f\">                </span>\n",
       "<span style=\"color: #7fbfbf; text-decoration-color: #7fbfbf\">           </span>        <span style=\"color: #008000; text-decoration-color: #008000\">'iss'</span>: <span style=\"color: #008000; text-decoration-color: #008000\">'did:ebsi:zicftVRNkkwfRourZd3nE5f'</span>,                <span style=\"color: #7f7f7f; text-decoration-color: #7f7f7f\">                </span>\n",
       "<span style=\"color: #7fbfbf; text-decoration-color: #7fbfbf\">           </span>        <span style=\"color: #008000; text-decoration-color: #008000\">'nbf'</span>: <span style=\"color: #008080; text-decoration-color: #008080; font-weight: bold\">1658175250</span>,                                        <span style=\"color: #7f7f7f; text-decoration-color: #7f7f7f\">                </span>\n",
       "<span style=\"color: #7fbfbf; text-decoration-color: #7fbfbf\">           </span>        <span style=\"color: #008000; text-decoration-color: #008000\">'iat'</span>: <span style=\"color: #008080; text-decoration-color: #008080; font-weight: bold\">1658175250</span>,                                        <span style=\"color: #7f7f7f; text-decoration-color: #7f7f7f\">                </span>\n",
       "<span style=\"color: #7fbfbf; text-decoration-color: #7fbfbf\">           </span>        <span style=\"color: #008000; text-decoration-color: #008000\">'vc'</span>: <span style=\"font-weight: bold\">{</span>                                                   <span style=\"color: #7f7f7f; text-decoration-color: #7f7f7f\">                </span>\n",
       "<span style=\"color: #7fbfbf; text-decoration-color: #7fbfbf\">           </span>            <span style=\"color: #008000; text-decoration-color: #008000\">'@context'</span>: <span style=\"font-weight: bold\">[</span>                                         <span style=\"color: #7f7f7f; text-decoration-color: #7f7f7f\">                </span>\n",
       "<span style=\"color: #7fbfbf; text-decoration-color: #7fbfbf\">           </span>                <span style=\"color: #008000; text-decoration-color: #008000\">'https://www.w3.org/2018/credentials/v1'</span>          <span style=\"color: #7f7f7f; text-decoration-color: #7f7f7f\">                </span>\n",
       "<span style=\"color: #7fbfbf; text-decoration-color: #7fbfbf\">           </span>            <span style=\"font-weight: bold\">]</span>,                                                    <span style=\"color: #7f7f7f; text-decoration-color: #7f7f7f\">                </span>\n",
       "<span style=\"color: #7fbfbf; text-decoration-color: #7fbfbf\">           </span>            <span style=\"color: #008000; text-decoration-color: #008000\">'id'</span>: <span style=\"color: #008000; text-decoration-color: #008000\">'urn:did:482e5aa1-72f8-4b4f-bcf6-46f7fe39f813'</span>, <span style=\"color: #7f7f7f; text-decoration-color: #7f7f7f\">                </span>\n",
       "<span style=\"color: #7fbfbf; text-decoration-color: #7fbfbf\">           </span>            <span style=\"color: #008000; text-decoration-color: #008000\">'type'</span>: <span style=\"font-weight: bold\">[</span>                                             <span style=\"color: #7f7f7f; text-decoration-color: #7f7f7f\">                </span>\n",
       "<span style=\"color: #7fbfbf; text-decoration-color: #7fbfbf\">           </span>                <span style=\"color: #008000; text-decoration-color: #008000\">'VerifiableCredential'</span>,                           <span style=\"color: #7f7f7f; text-decoration-color: #7f7f7f\">                </span>\n",
       "<span style=\"color: #7fbfbf; text-decoration-color: #7fbfbf\">           </span>                <span style=\"color: #008000; text-decoration-color: #008000\">'VerifiableAttestation'</span>,                          <span style=\"color: #7f7f7f; text-decoration-color: #7f7f7f\">                </span>\n",
       "<span style=\"color: #7fbfbf; text-decoration-color: #7fbfbf\">           </span>                <span style=\"color: #008000; text-decoration-color: #008000\">'VerifiableId'</span>                                    <span style=\"color: #7f7f7f; text-decoration-color: #7f7f7f\">                </span>\n",
       "<span style=\"color: #7fbfbf; text-decoration-color: #7fbfbf\">           </span>            <span style=\"font-weight: bold\">]</span>,                                                    <span style=\"color: #7f7f7f; text-decoration-color: #7f7f7f\">                </span>\n",
       "<span style=\"color: #7fbfbf; text-decoration-color: #7fbfbf\">           </span>            <span style=\"color: #008000; text-decoration-color: #008000\">'issuer'</span>: <span style=\"color: #008000; text-decoration-color: #008000\">'did:ebsi:zicftVRNkkwfRourZd3nE5f'</span>,         <span style=\"color: #7f7f7f; text-decoration-color: #7f7f7f\">                </span>\n",
       "<span style=\"color: #7fbfbf; text-decoration-color: #7fbfbf\">           </span>            <span style=\"color: #008000; text-decoration-color: #008000\">'issuanceDate'</span>: <span style=\"color: #008000; text-decoration-color: #008000\">'2022-07-18T20:14:10Z'</span>,               <span style=\"color: #7f7f7f; text-decoration-color: #7f7f7f\">                </span>\n",
       "<span style=\"color: #7fbfbf; text-decoration-color: #7fbfbf\">           </span>            <span style=\"color: #008000; text-decoration-color: #008000\">'validFrom'</span>: <span style=\"color: #008000; text-decoration-color: #008000\">'2022-07-18T20:14:10Z'</span>,                  <span style=\"color: #7f7f7f; text-decoration-color: #7f7f7f\">                </span>\n",
       "<span style=\"color: #7fbfbf; text-decoration-color: #7fbfbf\">           </span>            <span style=\"color: #008000; text-decoration-color: #008000\">'issued'</span>: <span style=\"color: #008000; text-decoration-color: #008000\">'2022-07-18T20:14:10Z'</span>,                     <span style=\"color: #7f7f7f; text-decoration-color: #7f7f7f\">                </span>\n",
       "<span style=\"color: #7fbfbf; text-decoration-color: #7fbfbf\">           </span>            <span style=\"color: #008000; text-decoration-color: #008000\">'credentialSubject'</span>: <span style=\"font-weight: bold\">{</span>                                <span style=\"color: #7f7f7f; text-decoration-color: #7f7f7f\">                </span>\n",
       "<span style=\"color: #7fbfbf; text-decoration-color: #7fbfbf\">           </span>                <span style=\"color: #008000; text-decoration-color: #008000\">'id'</span>:                                             <span style=\"color: #7f7f7f; text-decoration-color: #7f7f7f\">                </span>\n",
       "<span style=\"color: #7fbfbf; text-decoration-color: #7fbfbf\">           </span><span style=\"color: #008000; text-decoration-color: #008000\">'did:ebsi:zswMVyurt1arzjKJDz96XuGpnWoUvZzapWyVwXVg988nu'</span>,         <span style=\"color: #7f7f7f; text-decoration-color: #7f7f7f\">                </span>\n",
       "<span style=\"color: #7fbfbf; text-decoration-color: #7fbfbf\">           </span>                <span style=\"color: #008000; text-decoration-color: #008000\">'personalIdentifier'</span>: <span style=\"color: #008000; text-decoration-color: #008000\">'IT/DE/1234'</span>,               <span style=\"color: #7f7f7f; text-decoration-color: #7f7f7f\">                </span>\n",
       "<span style=\"color: #7fbfbf; text-decoration-color: #7fbfbf\">           </span>                <span style=\"color: #008000; text-decoration-color: #008000\">'familyName'</span>: <span style=\"color: #008000; text-decoration-color: #008000\">'Castafiori'</span>,                       <span style=\"color: #7f7f7f; text-decoration-color: #7f7f7f\">                </span>\n",
       "<span style=\"color: #7fbfbf; text-decoration-color: #7fbfbf\">           </span>                <span style=\"color: #008000; text-decoration-color: #008000\">'firstName'</span>: <span style=\"color: #008000; text-decoration-color: #008000\">'Bianca'</span>,                            <span style=\"color: #7f7f7f; text-decoration-color: #7f7f7f\">                </span>\n",
       "<span style=\"color: #7fbfbf; text-decoration-color: #7fbfbf\">           </span>                <span style=\"color: #008000; text-decoration-color: #008000\">'dateOfBirth'</span>: <span style=\"color: #008000; text-decoration-color: #008000\">'1930-10-01'</span>                       <span style=\"color: #7f7f7f; text-decoration-color: #7f7f7f\">                </span>\n",
       "<span style=\"color: #7fbfbf; text-decoration-color: #7fbfbf\">           </span>            <span style=\"font-weight: bold\">}</span>,                                                    <span style=\"color: #7f7f7f; text-decoration-color: #7f7f7f\">                </span>\n",
       "<span style=\"color: #7fbfbf; text-decoration-color: #7fbfbf\">           </span>            <span style=\"color: #008000; text-decoration-color: #008000\">'credentialSchema'</span>: <span style=\"font-weight: bold\">{</span>                                 <span style=\"color: #7f7f7f; text-decoration-color: #7f7f7f\">                </span>\n",
       "<span style=\"color: #7fbfbf; text-decoration-color: #7fbfbf\">           </span>                <span style=\"color: #008000; text-decoration-color: #008000\">'id'</span>: <span style=\"color: #008000; text-decoration-color: #008000\">'https://api.preprod.ebsi.eu/trusted-schema</span> <span style=\"color: #7f7f7f; text-decoration-color: #7f7f7f\">                </span>\n",
       "<span style=\"color: #7fbfbf; text-decoration-color: #7fbfbf\">           </span><span style=\"color: #008000; text-decoration-color: #008000\">s-registry/v2/schemas/zCfNxx5dMBdf4yVcsWzj1anWRuXcxrXj1aogyfN1xSu</span> <span style=\"color: #7f7f7f; text-decoration-color: #7f7f7f\">                </span>\n",
       "<span style=\"color: #7fbfbf; text-decoration-color: #7fbfbf\">           </span><span style=\"color: #008000; text-decoration-color: #008000\">8t'</span>,                                                              <span style=\"color: #7f7f7f; text-decoration-color: #7f7f7f\">                </span>\n",
       "<span style=\"color: #7fbfbf; text-decoration-color: #7fbfbf\">           </span>                <span style=\"color: #008000; text-decoration-color: #008000\">'type'</span>: <span style=\"color: #008000; text-decoration-color: #008000\">'FullJsonSchemaValidator2021'</span>             <span style=\"color: #7f7f7f; text-decoration-color: #7f7f7f\">                </span>\n",
       "<span style=\"color: #7fbfbf; text-decoration-color: #7fbfbf\">           </span>            <span style=\"font-weight: bold\">}</span>                                                     <span style=\"color: #7f7f7f; text-decoration-color: #7f7f7f\">                </span>\n",
       "<span style=\"color: #7fbfbf; text-decoration-color: #7fbfbf\">           </span>        <span style=\"font-weight: bold\">}</span>                                                         <span style=\"color: #7f7f7f; text-decoration-color: #7f7f7f\">                </span>\n",
       "<span style=\"color: #7fbfbf; text-decoration-color: #7fbfbf\">           </span>    <span style=\"font-weight: bold\">}</span>,                                                            <span style=\"color: #7f7f7f; text-decoration-color: #7f7f7f\">                </span>\n",
       "<span style=\"color: #7fbfbf; text-decoration-color: #7fbfbf\">           </span>    <span style=\"color: #008000; text-decoration-color: #008000\">'signature'</span>: <span style=\"color: #008000; text-decoration-color: #008000\">'se6jaxViBgCpIVDGOwhMnQPAsj2WgUcJ3NjgIZbqJ7h_iiu</span> <span style=\"color: #7f7f7f; text-decoration-color: #7f7f7f\">                </span>\n",
       "<span style=\"color: #7fbfbf; text-decoration-color: #7fbfbf\">           </span><span style=\"color: #008000; text-decoration-color: #008000\">drZFN4348Yq50q9BXoL19pPgaBEI8FSjAif5T0g'</span>,                         <span style=\"color: #7f7f7f; text-decoration-color: #7f7f7f\">                </span>\n",
       "<span style=\"color: #7fbfbf; text-decoration-color: #7fbfbf\">           </span>    <span style=\"color: #008000; text-decoration-color: #008000\">'data'</span>: <span style=\"color: #008000; text-decoration-color: #008000\">'eyJhbGciOiJFUzI1NksiLCJ0eXAiOiJKV1QiLCJraWQiOiJkaWQ6</span> <span style=\"color: #7f7f7f; text-decoration-color: #7f7f7f\">                </span>\n",
       "<span style=\"color: #7fbfbf; text-decoration-color: #7fbfbf\">           </span><span style=\"color: #008000; text-decoration-color: #008000\">ZWJzaTp6aWNmdFZSTmtrd2ZSb3VyWmQzbkU1ZiNrZXlzLTIifQ.eyJqdGkiOiJ1cm</span> <span style=\"color: #7f7f7f; text-decoration-color: #7f7f7f\">                </span>\n",
       "<span style=\"color: #7fbfbf; text-decoration-color: #7fbfbf\">           </span><span style=\"color: #008000; text-decoration-color: #008000\">46ZGlkOjQ4MmU1YWExLTcyZjgtNGI0Zi1iY2Y2LTQ2ZjdmZTM5ZjgxMyIsInN1YiI</span> <span style=\"color: #7f7f7f; text-decoration-color: #7f7f7f\">                </span>\n",
       "<span style=\"color: #7fbfbf; text-decoration-color: #7fbfbf\">           </span><span style=\"color: #008000; text-decoration-color: #008000\">6ImRpZDplYnNpOnpzd01WeXVydDFhcnpqS0pEejk2WHVHcG5Xb1V2WnphcFd5VndY</span> <span style=\"color: #7f7f7f; text-decoration-color: #7f7f7f\">                </span>\n",
       "<span style=\"color: #7fbfbf; text-decoration-color: #7fbfbf\">           </span><span style=\"color: #008000; text-decoration-color: #008000\">Vmc5ODhudSIsImlzcyI6ImRpZDplYnNpOnppY2Z0VlJOa2t3ZlJvdXJaZDNuRTVmI</span> <span style=\"color: #7f7f7f; text-decoration-color: #7f7f7f\">                </span>\n",
       "<span style=\"color: #7fbfbf; text-decoration-color: #7fbfbf\">           </span><span style=\"color: #008000; text-decoration-color: #008000\">iwibmJmIjoxNjU4MTc1MjUwLCJpYXQiOjE2NTgxNzUyNTAsInZjIjp7IkBjb250ZX</span> <span style=\"color: #7f7f7f; text-decoration-color: #7f7f7f\">                </span>\n",
       "<span style=\"color: #7fbfbf; text-decoration-color: #7fbfbf\">           </span><span style=\"color: #008000; text-decoration-color: #008000\">h0IjpbImh0dHBzOi8vd3d3LnczLm9yZy8yMDE4L2NyZWRlbnRpYWxzL3YxIl0sIml</span> <span style=\"color: #7f7f7f; text-decoration-color: #7f7f7f\">                </span>\n",
       "<span style=\"color: #7fbfbf; text-decoration-color: #7fbfbf\">           </span><span style=\"color: #008000; text-decoration-color: #008000\">kIjoidXJuOmRpZDo0ODJlNWFhMS03MmY4LTRiNGYtYmNmNi00NmY3ZmUzOWY4MTMi</span> <span style=\"color: #7f7f7f; text-decoration-color: #7f7f7f\">                </span>\n",
       "<span style=\"color: #7fbfbf; text-decoration-color: #7fbfbf\">           </span><span style=\"color: #008000; text-decoration-color: #008000\">LCJ0eXBlIjpbIlZlcmlmaWFibGVDcmVkZW50aWFsIiwiVmVyaWZpYWJsZUF0dGVzd</span> <span style=\"color: #7f7f7f; text-decoration-color: #7f7f7f\">                </span>\n",
       "<span style=\"color: #7fbfbf; text-decoration-color: #7fbfbf\">           </span><span style=\"color: #008000; text-decoration-color: #008000\">GF0aW9uIiwiVmVyaWZpYWJsZUlkIl0sImlzc3VlciI6ImRpZDplYnNpOnppY2Z0Vl</span> <span style=\"color: #7f7f7f; text-decoration-color: #7f7f7f\">                </span>\n",
       "<span style=\"color: #7fbfbf; text-decoration-color: #7fbfbf\">           </span><span style=\"color: #008000; text-decoration-color: #008000\">JOa2t3ZlJvdXJaZDNuRTVmIiwiaXNzdWFuY2VEYXRlIjoiMjAyMi0wNy0xOFQyMDo</span> <span style=\"color: #7f7f7f; text-decoration-color: #7f7f7f\">                </span>\n",
       "<span style=\"color: #7fbfbf; text-decoration-color: #7fbfbf\">           </span><span style=\"color: #008000; text-decoration-color: #008000\">xNDoxMFoiLCJ2YWxpZEZyb20iOiIyMDIyLTA3LTE4VDIwOjE0OjEwWiIsImlzc3Vl</span> <span style=\"color: #7f7f7f; text-decoration-color: #7f7f7f\">                </span>\n",
       "<span style=\"color: #7fbfbf; text-decoration-color: #7fbfbf\">           </span><span style=\"color: #008000; text-decoration-color: #008000\">ZCI6IjIwMjItMDctMThUMjA6MTQ6MTBaIiwiY3JlZGVudGlhbFN1YmplY3QiOnsia</span> <span style=\"color: #7f7f7f; text-decoration-color: #7f7f7f\">                </span>\n",
       "<span style=\"color: #7fbfbf; text-decoration-color: #7fbfbf\">           </span><span style=\"color: #008000; text-decoration-color: #008000\">WQiOiJkaWQ6ZWJzaTp6c3dNVnl1cnQxYXJ6aktKRHo5Nlh1R3BuV29Vdlp6YXBXeV</span> <span style=\"color: #7f7f7f; text-decoration-color: #7f7f7f\">                </span>\n",
       "<span style=\"color: #7fbfbf; text-decoration-color: #7fbfbf\">           </span><span style=\"color: #008000; text-decoration-color: #008000\">Z3WFZnOTg4bnUiLCJwZXJzb25hbElkZW50aWZpZXIiOiJJVC9ERS8xMjM0IiwiZmF</span> <span style=\"color: #7f7f7f; text-decoration-color: #7f7f7f\">                </span>\n",
       "<span style=\"color: #7fbfbf; text-decoration-color: #7fbfbf\">           </span><span style=\"color: #008000; text-decoration-color: #008000\">taWx5TmFtZSI6IkNhc3RhZmlvcmkiLCJmaXJzdE5hbWUiOiJCaWFuY2EiLCJkYXRl</span> <span style=\"color: #7f7f7f; text-decoration-color: #7f7f7f\">                </span>\n",
       "<span style=\"color: #7fbfbf; text-decoration-color: #7fbfbf\">           </span><span style=\"color: #008000; text-decoration-color: #008000\">T2ZCaXJ0aCI6IjE5MzAtMTAtMDEifSwiY3JlZGVudGlhbFNjaGVtYSI6eyJpZCI6I</span> <span style=\"color: #7f7f7f; text-decoration-color: #7f7f7f\">                </span>\n",
       "<span style=\"color: #7fbfbf; text-decoration-color: #7fbfbf\">           </span><span style=\"color: #008000; text-decoration-color: #008000\">mh0dHBzOi8vYXBpLnByZXByb2QuZWJzaS5ldS90cnVzdGVkLXNjaGVtYXMtcmVnaX</span> <span style=\"color: #7f7f7f; text-decoration-color: #7f7f7f\">                </span>\n",
       "<span style=\"color: #7fbfbf; text-decoration-color: #7fbfbf\">           </span><span style=\"color: #008000; text-decoration-color: #008000\">N0cnkvdjIvc2NoZW1hcy96Q2ZOeHg1ZE1CZGY0eVZjc1d6ajFhbldSdVhjeHJYajF</span> <span style=\"color: #7f7f7f; text-decoration-color: #7f7f7f\">                </span>\n",
       "<span style=\"color: #7fbfbf; text-decoration-color: #7fbfbf\">           </span><span style=\"color: #008000; text-decoration-color: #008000\">hb2d5Zk4xeFN1OHQiLCJ0eXBlIjoiRnVsbEpzb25TY2hlbWFWYWxpZGF0b3IyMDIx</span> <span style=\"color: #7f7f7f; text-decoration-color: #7f7f7f\">                </span>\n",
       "<span style=\"color: #7fbfbf; text-decoration-color: #7fbfbf\">           </span><span style=\"color: #008000; text-decoration-color: #008000\">In19fQ'</span>                                                           <span style=\"color: #7f7f7f; text-decoration-color: #7f7f7f\">                </span>\n",
       "<span style=\"color: #7fbfbf; text-decoration-color: #7fbfbf\">           </span><span style=\"font-weight: bold\">}</span>                                                                 <span style=\"color: #7f7f7f; text-decoration-color: #7f7f7f\">                </span>\n",
       "</pre>\n"
      ],
      "text/plain": [
       "\u001b[2;36m          \u001b[0m\u001b[2;36m \u001b[0mReceived credential                                               \u001b]8;id=165755;file:///var/folders/z6/z5bp3zsx3g37nkmnvk3mp8880000gn/T/ipykernel_80272/2102501115.py\u001b\\\u001b[2m2102501115.py\u001b[0m\u001b]8;;\u001b\\\u001b[2m:\u001b[0m\u001b]8;id=712800;file:///var/folders/z6/z5bp3zsx3g37nkmnvk3mp8880000gn/T/ipykernel_80272/2102501115.py#21\u001b\\\u001b[2m21\u001b[0m\u001b]8;;\u001b\\\n",
       "\u001b[2;36m           \u001b[0m\u001b[1m{\u001b[0m                                                                 \u001b[2m                \u001b[0m\n",
       "\u001b[2;36m           \u001b[0m    \u001b[32m'header'\u001b[0m: \u001b[1m{\u001b[0m                                                   \u001b[2m                \u001b[0m\n",
       "\u001b[2;36m           \u001b[0m        \u001b[32m'alg'\u001b[0m: \u001b[32m'ES256K'\u001b[0m,                                          \u001b[2m                \u001b[0m\n",
       "\u001b[2;36m           \u001b[0m        \u001b[32m'typ'\u001b[0m: \u001b[32m'JWT'\u001b[0m,                                             \u001b[2m                \u001b[0m\n",
       "\u001b[2;36m           \u001b[0m        \u001b[32m'kid'\u001b[0m: \u001b[32m'did:ebsi:zicftVRNkkwfRourZd3nE5f#keys-2'\u001b[0m          \u001b[2m                \u001b[0m\n",
       "\u001b[2;36m           \u001b[0m    \u001b[1m}\u001b[0m,                                                            \u001b[2m                \u001b[0m\n",
       "\u001b[2;36m           \u001b[0m    \u001b[32m'payload'\u001b[0m: \u001b[1m{\u001b[0m                                                  \u001b[2m                \u001b[0m\n",
       "\u001b[2;36m           \u001b[0m        \u001b[32m'jti'\u001b[0m: \u001b[32m'urn:did:482e5aa1-72f8-4b4f-bcf6-46f7fe39f813'\u001b[0m,    \u001b[2m                \u001b[0m\n",
       "\u001b[2;36m           \u001b[0m        \u001b[32m'sub'\u001b[0m:                                                    \u001b[2m                \u001b[0m\n",
       "\u001b[2;36m           \u001b[0m\u001b[32m'did:ebsi:zswMVyurt1arzjKJDz96XuGpnWoUvZzapWyVwXVg988nu'\u001b[0m,         \u001b[2m                \u001b[0m\n",
       "\u001b[2;36m           \u001b[0m        \u001b[32m'iss'\u001b[0m: \u001b[32m'did:ebsi:zicftVRNkkwfRourZd3nE5f'\u001b[0m,                \u001b[2m                \u001b[0m\n",
       "\u001b[2;36m           \u001b[0m        \u001b[32m'nbf'\u001b[0m: \u001b[1;36m1658175250\u001b[0m,                                        \u001b[2m                \u001b[0m\n",
       "\u001b[2;36m           \u001b[0m        \u001b[32m'iat'\u001b[0m: \u001b[1;36m1658175250\u001b[0m,                                        \u001b[2m                \u001b[0m\n",
       "\u001b[2;36m           \u001b[0m        \u001b[32m'vc'\u001b[0m: \u001b[1m{\u001b[0m                                                   \u001b[2m                \u001b[0m\n",
       "\u001b[2;36m           \u001b[0m            \u001b[32m'@context'\u001b[0m: \u001b[1m[\u001b[0m                                         \u001b[2m                \u001b[0m\n",
       "\u001b[2;36m           \u001b[0m                \u001b[32m'https://www.w3.org/2018/credentials/v1'\u001b[0m          \u001b[2m                \u001b[0m\n",
       "\u001b[2;36m           \u001b[0m            \u001b[1m]\u001b[0m,                                                    \u001b[2m                \u001b[0m\n",
       "\u001b[2;36m           \u001b[0m            \u001b[32m'id'\u001b[0m: \u001b[32m'urn:did:482e5aa1-72f8-4b4f-bcf6-46f7fe39f813'\u001b[0m, \u001b[2m                \u001b[0m\n",
       "\u001b[2;36m           \u001b[0m            \u001b[32m'type'\u001b[0m: \u001b[1m[\u001b[0m                                             \u001b[2m                \u001b[0m\n",
       "\u001b[2;36m           \u001b[0m                \u001b[32m'VerifiableCredential'\u001b[0m,                           \u001b[2m                \u001b[0m\n",
       "\u001b[2;36m           \u001b[0m                \u001b[32m'VerifiableAttestation'\u001b[0m,                          \u001b[2m                \u001b[0m\n",
       "\u001b[2;36m           \u001b[0m                \u001b[32m'VerifiableId'\u001b[0m                                    \u001b[2m                \u001b[0m\n",
       "\u001b[2;36m           \u001b[0m            \u001b[1m]\u001b[0m,                                                    \u001b[2m                \u001b[0m\n",
       "\u001b[2;36m           \u001b[0m            \u001b[32m'issuer'\u001b[0m: \u001b[32m'did:ebsi:zicftVRNkkwfRourZd3nE5f'\u001b[0m,         \u001b[2m                \u001b[0m\n",
       "\u001b[2;36m           \u001b[0m            \u001b[32m'issuanceDate'\u001b[0m: \u001b[32m'2022-07-18T20:14:10Z'\u001b[0m,               \u001b[2m                \u001b[0m\n",
       "\u001b[2;36m           \u001b[0m            \u001b[32m'validFrom'\u001b[0m: \u001b[32m'2022-07-18T20:14:10Z'\u001b[0m,                  \u001b[2m                \u001b[0m\n",
       "\u001b[2;36m           \u001b[0m            \u001b[32m'issued'\u001b[0m: \u001b[32m'2022-07-18T20:14:10Z'\u001b[0m,                     \u001b[2m                \u001b[0m\n",
       "\u001b[2;36m           \u001b[0m            \u001b[32m'credentialSubject'\u001b[0m: \u001b[1m{\u001b[0m                                \u001b[2m                \u001b[0m\n",
       "\u001b[2;36m           \u001b[0m                \u001b[32m'id'\u001b[0m:                                             \u001b[2m                \u001b[0m\n",
       "\u001b[2;36m           \u001b[0m\u001b[32m'did:ebsi:zswMVyurt1arzjKJDz96XuGpnWoUvZzapWyVwXVg988nu'\u001b[0m,         \u001b[2m                \u001b[0m\n",
       "\u001b[2;36m           \u001b[0m                \u001b[32m'personalIdentifier'\u001b[0m: \u001b[32m'IT/DE/1234'\u001b[0m,               \u001b[2m                \u001b[0m\n",
       "\u001b[2;36m           \u001b[0m                \u001b[32m'familyName'\u001b[0m: \u001b[32m'Castafiori'\u001b[0m,                       \u001b[2m                \u001b[0m\n",
       "\u001b[2;36m           \u001b[0m                \u001b[32m'firstName'\u001b[0m: \u001b[32m'Bianca'\u001b[0m,                            \u001b[2m                \u001b[0m\n",
       "\u001b[2;36m           \u001b[0m                \u001b[32m'dateOfBirth'\u001b[0m: \u001b[32m'1930-10-01'\u001b[0m                       \u001b[2m                \u001b[0m\n",
       "\u001b[2;36m           \u001b[0m            \u001b[1m}\u001b[0m,                                                    \u001b[2m                \u001b[0m\n",
       "\u001b[2;36m           \u001b[0m            \u001b[32m'credentialSchema'\u001b[0m: \u001b[1m{\u001b[0m                                 \u001b[2m                \u001b[0m\n",
       "\u001b[2;36m           \u001b[0m                \u001b[32m'id'\u001b[0m: \u001b[32m'https://api.preprod.ebsi.eu/trusted-schema\u001b[0m \u001b[2m                \u001b[0m\n",
       "\u001b[2;36m           \u001b[0m\u001b[32ms-registry/v2/schemas/zCfNxx5dMBdf4yVcsWzj1anWRuXcxrXj1aogyfN1xSu\u001b[0m \u001b[2m                \u001b[0m\n",
       "\u001b[2;36m           \u001b[0m\u001b[32m8t'\u001b[0m,                                                              \u001b[2m                \u001b[0m\n",
       "\u001b[2;36m           \u001b[0m                \u001b[32m'type'\u001b[0m: \u001b[32m'FullJsonSchemaValidator2021'\u001b[0m             \u001b[2m                \u001b[0m\n",
       "\u001b[2;36m           \u001b[0m            \u001b[1m}\u001b[0m                                                     \u001b[2m                \u001b[0m\n",
       "\u001b[2;36m           \u001b[0m        \u001b[1m}\u001b[0m                                                         \u001b[2m                \u001b[0m\n",
       "\u001b[2;36m           \u001b[0m    \u001b[1m}\u001b[0m,                                                            \u001b[2m                \u001b[0m\n",
       "\u001b[2;36m           \u001b[0m    \u001b[32m'signature'\u001b[0m: \u001b[32m'se6jaxViBgCpIVDGOwhMnQPAsj2WgUcJ3NjgIZbqJ7h_iiu\u001b[0m \u001b[2m                \u001b[0m\n",
       "\u001b[2;36m           \u001b[0m\u001b[32mdrZFN4348Yq50q9BXoL19pPgaBEI8FSjAif5T0g'\u001b[0m,                         \u001b[2m                \u001b[0m\n",
       "\u001b[2;36m           \u001b[0m    \u001b[32m'data'\u001b[0m: \u001b[32m'eyJhbGciOiJFUzI1NksiLCJ0eXAiOiJKV1QiLCJraWQiOiJkaWQ6\u001b[0m \u001b[2m                \u001b[0m\n",
       "\u001b[2;36m           \u001b[0m\u001b[32mZWJzaTp6aWNmdFZSTmtrd2ZSb3VyWmQzbkU1ZiNrZXlzLTIifQ.eyJqdGkiOiJ1cm\u001b[0m \u001b[2m                \u001b[0m\n",
       "\u001b[2;36m           \u001b[0m\u001b[32m46ZGlkOjQ4MmU1YWExLTcyZjgtNGI0Zi1iY2Y2LTQ2ZjdmZTM5ZjgxMyIsInN1YiI\u001b[0m \u001b[2m                \u001b[0m\n",
       "\u001b[2;36m           \u001b[0m\u001b[32m6ImRpZDplYnNpOnpzd01WeXVydDFhcnpqS0pEejk2WHVHcG5Xb1V2WnphcFd5VndY\u001b[0m \u001b[2m                \u001b[0m\n",
       "\u001b[2;36m           \u001b[0m\u001b[32mVmc5ODhudSIsImlzcyI6ImRpZDplYnNpOnppY2Z0VlJOa2t3ZlJvdXJaZDNuRTVmI\u001b[0m \u001b[2m                \u001b[0m\n",
       "\u001b[2;36m           \u001b[0m\u001b[32miwibmJmIjoxNjU4MTc1MjUwLCJpYXQiOjE2NTgxNzUyNTAsInZjIjp7IkBjb250ZX\u001b[0m \u001b[2m                \u001b[0m\n",
       "\u001b[2;36m           \u001b[0m\u001b[32mh0IjpbImh0dHBzOi8vd3d3LnczLm9yZy8yMDE4L2NyZWRlbnRpYWxzL3YxIl0sIml\u001b[0m \u001b[2m                \u001b[0m\n",
       "\u001b[2;36m           \u001b[0m\u001b[32mkIjoidXJuOmRpZDo0ODJlNWFhMS03MmY4LTRiNGYtYmNmNi00NmY3ZmUzOWY4MTMi\u001b[0m \u001b[2m                \u001b[0m\n",
       "\u001b[2;36m           \u001b[0m\u001b[32mLCJ0eXBlIjpbIlZlcmlmaWFibGVDcmVkZW50aWFsIiwiVmVyaWZpYWJsZUF0dGVzd\u001b[0m \u001b[2m                \u001b[0m\n",
       "\u001b[2;36m           \u001b[0m\u001b[32mGF0aW9uIiwiVmVyaWZpYWJsZUlkIl0sImlzc3VlciI6ImRpZDplYnNpOnppY2Z0Vl\u001b[0m \u001b[2m                \u001b[0m\n",
       "\u001b[2;36m           \u001b[0m\u001b[32mJOa2t3ZlJvdXJaZDNuRTVmIiwiaXNzdWFuY2VEYXRlIjoiMjAyMi0wNy0xOFQyMDo\u001b[0m \u001b[2m                \u001b[0m\n",
       "\u001b[2;36m           \u001b[0m\u001b[32mxNDoxMFoiLCJ2YWxpZEZyb20iOiIyMDIyLTA3LTE4VDIwOjE0OjEwWiIsImlzc3Vl\u001b[0m \u001b[2m                \u001b[0m\n",
       "\u001b[2;36m           \u001b[0m\u001b[32mZCI6IjIwMjItMDctMThUMjA6MTQ6MTBaIiwiY3JlZGVudGlhbFN1YmplY3QiOnsia\u001b[0m \u001b[2m                \u001b[0m\n",
       "\u001b[2;36m           \u001b[0m\u001b[32mWQiOiJkaWQ6ZWJzaTp6c3dNVnl1cnQxYXJ6aktKRHo5Nlh1R3BuV29Vdlp6YXBXeV\u001b[0m \u001b[2m                \u001b[0m\n",
       "\u001b[2;36m           \u001b[0m\u001b[32mZ3WFZnOTg4bnUiLCJwZXJzb25hbElkZW50aWZpZXIiOiJJVC9ERS8xMjM0IiwiZmF\u001b[0m \u001b[2m                \u001b[0m\n",
       "\u001b[2;36m           \u001b[0m\u001b[32mtaWx5TmFtZSI6IkNhc3RhZmlvcmkiLCJmaXJzdE5hbWUiOiJCaWFuY2EiLCJkYXRl\u001b[0m \u001b[2m                \u001b[0m\n",
       "\u001b[2;36m           \u001b[0m\u001b[32mT2ZCaXJ0aCI6IjE5MzAtMTAtMDEifSwiY3JlZGVudGlhbFNjaGVtYSI6eyJpZCI6I\u001b[0m \u001b[2m                \u001b[0m\n",
       "\u001b[2;36m           \u001b[0m\u001b[32mmh0dHBzOi8vYXBpLnByZXByb2QuZWJzaS5ldS90cnVzdGVkLXNjaGVtYXMtcmVnaX\u001b[0m \u001b[2m                \u001b[0m\n",
       "\u001b[2;36m           \u001b[0m\u001b[32mN0cnkvdjIvc2NoZW1hcy96Q2ZOeHg1ZE1CZGY0eVZjc1d6ajFhbldSdVhjeHJYajF\u001b[0m \u001b[2m                \u001b[0m\n",
       "\u001b[2;36m           \u001b[0m\u001b[32mhb2d5Zk4xeFN1OHQiLCJ0eXBlIjoiRnVsbEpzb25TY2hlbWFWYWxpZGF0b3IyMDIx\u001b[0m \u001b[2m                \u001b[0m\n",
       "\u001b[2;36m           \u001b[0m\u001b[32mIn19fQ'\u001b[0m                                                           \u001b[2m                \u001b[0m\n",
       "\u001b[2;36m           \u001b[0m\u001b[1m}\u001b[0m                                                                 \u001b[2m                \u001b[0m\n"
      ]
     },
     "metadata": {},
     "output_type": "display_data"
    }
   ],
   "source": [
    "from src.did_jwt import decode_jwt\n",
    "\n",
    "options = {\n",
    "    \"c_nonce\": result[\"c_nonce\"],\n",
    "    \"client\": client,\n",
    "    \"issuer_url\": issuer_url,\n",
    "    \"credential_type\": credential_type,\n",
    "}\n",
    "\n",
    "access_token = result[\"access_token\"]\n",
    "\n",
    "headers = {\n",
    "    \"Authorization\": f\"Bearer {access_token}\",\n",
    "}\n",
    "\n",
    "result = await conformance(\"issuerCredential\", options=options, headers=headers)\n",
    "console.log(\"issuerCredential\", result)\n",
    "\n",
    "credential = decode_jwt(result[\"credential\"])\n",
    "\n",
    "console.log(\"Received credential\", credential)"
   ]
  }
 ],
 "metadata": {
  "kernelspec": {
   "display_name": "Python 3.8.9 ('ebsi-wallet')",
   "language": "python",
   "name": "python3"
  },
  "language_info": {
   "codemirror_mode": {
    "name": "ipython",
    "version": 3
   },
   "file_extension": ".py",
   "mimetype": "text/x-python",
   "name": "python",
   "nbconvert_exporter": "python",
   "pygments_lexer": "ipython3",
   "version": "3.8.9"
  },
  "orig_nbformat": 4,
  "vscode": {
   "interpreter": {
    "hash": "3b4c306616ac518cda10396dc5e33ec841be65507032dce171859f2c0f4d5a7f"
   }
  }
 },
 "nbformat": 4,
 "nbformat_minor": 2
}
