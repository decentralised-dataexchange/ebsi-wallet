{
 "cells": [
  {
   "cell_type": "markdown",
   "metadata": {},
   "source": [
    "# Verify ECDSA Secp256K1 Signature"
   ]
  },
  {
   "cell_type": "code",
   "execution_count": 40,
   "metadata": {},
   "outputs": [
    {
     "name": "stdout",
     "output_type": "stream",
     "text": [
      "True\n"
     ]
    }
   ],
   "source": [
    "from src.util import pad_base64\n",
    "import base64\n",
    "import hashlib\n",
    "\n",
    "sig = \"sw_xxlA6r19a4p3v9aMAESqtMtQOTkvAPa3fpHDTe1MqPrLnkKNyrKl2a9IulJioLYSmoDa-qV8kQoBHRNrVGg\"\n",
    "sig = pad_base64(sig)\n",
    "\n",
    "decoded_sig = base64.urlsafe_b64decode(sig)\n",
    "\n",
    "r = int.from_bytes(decoded_sig[:32], byteorder=\"big\")\n",
    "s = int.from_bytes(decoded_sig[32:], byteorder=\"big\")\n",
    "\n",
    "sig_obj = {\n",
    "    \"r\": r,\n",
    "    \"s\": s\n",
    "}\n",
    "\n",
    "did = \"did:ebsi:znHeZWvhAK2FK2Dk1jXNe7m\"\n",
    "did_doc = {\n",
    "  \"@context\": \"https://www.w3.org/ns/did/v1\",\n",
    "  \"id\": \"did:ebsi:znHeZWvhAK2FK2Dk1jXNe7m\",\n",
    "  \"verificationMethod\": [\n",
    "    {\n",
    "      \"id\": \"did:ebsi:znHeZWvhAK2FK2Dk1jXNe7m#keys-1\",\n",
    "      \"type\": \"Secp256k1VerificationKey2018\",\n",
    "      \"controller\": \"did:ebsi:znHeZWvhAK2FK2Dk1jXNe7m\",\n",
    "      \"publicKeyJwk\": {\n",
    "        \"kty\": \"EC\",\n",
    "        \"crv\": \"secp256k1\",\n",
    "        \"x\": \"Ou6y1zrJBeVnpV739kcTyez7RmQZFYg3F9bWGm6V5dQ\",\n",
    "        \"y\": \"jOq6B8CsOxoXj-WXAGY28PH0Ype1x6bnOB6_YOo3lK0\"\n",
    "      }\n",
    "    }\n",
    "  ],\n",
    "  \"authentication\": [\n",
    "    \"did:ebsi:znHeZWvhAK2FK2Dk1jXNe7m#keys-1\"\n",
    "  ],\n",
    "  \"assertionMethod\": [\n",
    "    \"did:ebsi:znHeZWvhAK2FK2Dk1jXNe7m#keys-1\"\n",
    "  ]\n",
    "}\n",
    "\n",
    "authenticator = did_doc[\"verificationMethod\"][0]\n",
    "\n",
    "pub_key_x = authenticator[\"publicKeyJwk\"][\"x\"]\n",
    "pub_key_y = authenticator[\"publicKeyJwk\"][\"y\"]\n",
    "\n",
    "pub_key_x_bytes = base64.urlsafe_b64decode(pad_base64(pub_key_x))\n",
    "pub_key_y_bytes = base64.urlsafe_b64decode(pad_base64(pub_key_y))\n",
    "\n",
    "int_x = int.from_bytes(pub_key_x_bytes, byteorder=\"big\")\n",
    "int_y = int.from_bytes(pub_key_y_bytes, byteorder=\"big\")\n",
    "\n",
    "from eth_keys import KeyAPI\n",
    "\n",
    "keys = KeyAPI('eth_keys.backends.CoinCurveECCBackend')\n",
    "\n",
    "signature = keys.Signature(vrs=(0, r, s))\n",
    "\n",
    "from coincurve.keys import PublicKey\n",
    "\n",
    "public_key_cc = PublicKey.from_point(int_x, int_y)\n",
    "\n",
    "public_key_cc_compressed_bytes = public_key_cc.format()\n",
    "\n",
    "public_key_ethk = keys.PublicKey.from_compressed_bytes(public_key_cc_compressed_bytes)\n",
    "\n",
    "data_jwt = \"eyJhbGciOiJFUzI1NksiLCJ0eXAiOiJKV1QiLCJraWQiOiJodHRwczovL2FwaS5jb25mb3JtYW5jZS5pbnRlYnNpLnh5ei90cnVzdGVkLWFwcHMtcmVnaXN0cnkvdjIvYXBwcy8weDU1OWM0ZjMyZGMzNTU2NmU0YjkyYjY5NzQ5OWMzOGYzODQ3YTZjNTNmODM0NDgyMWMyNDM1NGVhZDFmMmFiMWUifQ.eyJpYXQiOjE2NTI4MDc2NjUsImV4cCI6MTY1MjgwNzk2NSwiaXNzIjoiZGlkOmVic2k6em5IZVpXdmhBSzJGSzJEazFqWE5lN20iLCJzY29wZSI6Im9wZW5pZCBkaWRfYXV0aG4iLCJyZXNwb25zZV90eXBlIjoiaWRfdG9rZW4iLCJyZXNwb25zZV9tb2RlIjoicG9zdCIsImNsaWVudF9pZCI6Imh0dHBzOi8vYXBpLmNvbmZvcm1hbmNlLmludGVic2kueHl6L2F1dGhvcmlzYXRpb24vdjEvc2lvcC1zZXNzaW9ucyIsInJlZGlyZWN0X3VyaSI6Imh0dHBzOi8vYXBpLmNvbmZvcm1hbmNlLmludGVic2kueHl6L2F1dGhvcmlzYXRpb24vdjEvc2lvcC1zZXNzaW9ucyIsIm5vbmNlIjoiMGQ0M2QyYmUtZTEyMi00NDk3LWI4NjgtNDEwYzg2MzViMzE5IiwiY2xhaW1zIjp7ImlkX3Rva2VuIjp7InZlcmlmaWVkX2NsYWltcyI6eyJ2ZXJpZmljYXRpb24iOnsidHJ1c3RfZnJhbWV3b3JrIjoiRUJTSSIsImV2aWRlbmNlIjp7InR5cGUiOnsidmFsdWUiOiJ2ZXJpZmlhYmxlX2NyZWRlbnRpYWwifSwiZG9jdW1lbnQiOnsidHlwZSI6eyJlc3NlbnRpYWwiOnRydWUsInZhbHVlIjpbIlZlcmlmaWFibGVDcmVkZW50aWFsIiwiVmVyaWZpYWJsZUF1dGhvcmlzYXRpb24iXX0sImNyZWRlbnRpYWxTY2hlbWEiOnsiaWQiOnsiZXNzZW50aWFsIjp0cnVlLCJ2YWx1ZSI6Imh0dHBzOi8vYXBpLmNvbmZvcm1hbmNlLmludGVic2kueHl6L3RydXN0ZWQtc2NoZW1hcy1yZWdpc3RyeS92MS9zY2hlbWFzLzB4MjhkNzY5NTQ5MjRkMWM0NzQ3YTRmMWY5ZTNlOWVkYzljYTk2NWVmYmY4ZmYyMGU0MzM5YzJiZjIzMjNhNTc3MyJ9fX19fX19fX0.sw_xxlA6r19a4p3v9aMAESqtMtQOTkvAPa3fpHDTe1MqPrLnkKNyrKl2a9IulJioLYSmoDa-qV8kQoBHRNrVGg\"\n",
    "\n",
    "from src.did_jwt import decode_jwt\n",
    "\n",
    "decoded_jwt = decode_jwt(data_jwt)\n",
    "\n",
    "msg_bytes = hashlib.sha256(decoded_jwt[\"data\"].encode('utf-8')).digest()\n",
    "\n",
    "verify = keys.ecdsa_verify(msg_bytes, signature, public_key_ethk)\n",
    "\n",
    "print(verify)\n"
   ]
  },
  {
   "cell_type": "code",
   "execution_count": 41,
   "metadata": {},
   "outputs": [
    {
     "name": "stdout",
     "output_type": "stream",
     "text": [
      "1652817041\n"
     ]
    }
   ],
   "source": [
    "import time\n",
    "import math\n",
    "\n",
    "print(math.floor(time.time()))"
   ]
  },
  {
   "cell_type": "code",
   "execution_count": 2,
   "metadata": {},
   "outputs": [
    {
     "name": "stdout",
     "output_type": "stream",
     "text": [
      "{'kty': 'EC', 'crv': 'secp256k1', 'x': '2NsMAtIUNr3XAvat9x8KkW8iBAsOwaIdWyzdM7SUEok', 'y': '7HE2YQVAhG4oAjHVqxCZnWcqfPJkXCp2m3CEqYKKuHA'}\n"
     ]
    }
   ],
   "source": [
    "from src.ebsi_client import EbsiClient\n",
    "\n",
    "client = EbsiClient()\n",
    "public_key_jwk = client.eth.public_key_to_jwk()\n",
    "\n",
    "public_key_jwk = {\n",
    "    \"kty\": public_key_jwk.get(\"kty\"),\n",
    "    \"crv\": public_key_jwk.get(\"crv\"),\n",
    "    \"x\": public_key_jwk.get(\"x\"),\n",
    "    \"y\": public_key_jwk.get(\"y\")\n",
    "}\n",
    "\n",
    "print(public_key_jwk)"
   ]
  }
 ],
 "metadata": {
  "interpreter": {
   "hash": "3b4c306616ac518cda10396dc5e33ec841be65507032dce171859f2c0f4d5a7f"
  },
  "kernelspec": {
   "display_name": "Python 3.8.9 ('ebsi-wallet')",
   "language": "python",
   "name": "python3"
  },
  "language_info": {
   "codemirror_mode": {
    "name": "ipython",
    "version": 3
   },
   "file_extension": ".py",
   "mimetype": "text/x-python",
   "name": "python",
   "nbconvert_exporter": "python",
   "pygments_lexer": "ipython3",
   "version": "3.8.9"
  },
  "orig_nbformat": 4
 },
 "nbformat": 4,
 "nbformat_minor": 2
}
